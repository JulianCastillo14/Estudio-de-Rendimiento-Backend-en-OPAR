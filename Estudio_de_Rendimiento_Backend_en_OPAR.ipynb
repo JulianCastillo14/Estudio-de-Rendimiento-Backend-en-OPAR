{
 "cells": [
  {
   "cell_type": "markdown",
   "metadata": {
    "id": "_LY1YUs0To3P"
   },
   "source": [
    "# Estudio de Rendimiento Backend en OPAR\n",
    "\n",
    "En este estudio de rendimiento, evaluaremos el comportamiento del backend de la aplicación OPAR en dos áreas clave: **inmuebles** y **opiniones**. El apartado de inmuebles se centra en la capacidad del sistema para gestionar y procesar eficientemente las búsquedas, filtros (por precio, barrio, tipo de inmueble) y la carga de información detallada de cada propiedad disponible para alquiler. En cuanto a opiniones, se medirá el rendimiento en la recopilación, almacenamiento y recuperación de calificaciones y comentarios de los usuarios, asegurando que el sistema pueda ofrecer resultados rápidos y precisos al momento de consultar la reputación de un inmueble. El objetivo es garantizar una experiencia de usuario ágil y confiable, con tiempos de respuesta optimizados y una gestión eficiente de los datos en ambas secciones.\n",
    "\n",
    "\n",
    "### Integrantes:\n",
    "- Juan Camilo Lozada Garavito – 2205560\n",
    "- Daniel Camilo Barrera Pérez – 2205562\n",
    "- Jerson Julian Cañon Castillo – 2205633\n",
    "- Santiago González Flores - 2200165"
   ]
  },
  {
   "cell_type": "markdown",
   "metadata": {
    "id": "vcn1Uh7VTziS"
   },
   "source": [
    "## Versión 1\n",
    "En esta primera versión del backend, se implementará una arquitectura basada en contenedores utilizando Docker. Se configurarán dos contenedores: uno para el backend, que gestionará la lógica de la aplicación y la API, y otro para la base de datos, que almacenará los datos de inmuebles y opiniones de los usuarios. El objetivo es evaluar cómo se comporta el backend al ser desplegado en este entorno de contenedores, garantizando que ambos servicios interactúen de manera eficiente y escalable. \n",
    "<div style=\"margin-left: 200px;\">\n",
    "    <img src=\"./Multimedia/V1.jpg\" alt=\"Diagrama versión 1\" width=\"500px\" height=\"220\">\n",
    "</div>\n"
   ]
  },
  {
   "cell_type": "markdown",
   "metadata": {
    "id": "zmFH_H9cahrG"
   },
   "source": [
    "## Versión 2\n",
    "\n",
    "Desplegar con kubernetes 1 replica"
   ]
  },
  {
   "cell_type": "code",
   "execution_count": 4,
   "metadata": {},
   "outputs": [
    {
     "data": {
      "text/html": [
       "<div>\n",
       "<style scoped>\n",
       "    .dataframe tbody tr th:only-of-type {\n",
       "        vertical-align: middle;\n",
       "    }\n",
       "\n",
       "    .dataframe tbody tr th {\n",
       "        vertical-align: top;\n",
       "    }\n",
       "\n",
       "    .dataframe thead th {\n",
       "        text-align: right;\n",
       "    }\n",
       "</style>\n",
       "<table border=\"1\" class=\"dataframe\">\n",
       "  <thead>\n",
       "    <tr style=\"text-align: right;\">\n",
       "      <th></th>\n",
       "      <th>timeStamp</th>\n",
       "      <th>elapsed</th>\n",
       "      <th>label</th>\n",
       "      <th>responseCode</th>\n",
       "      <th>responseMessage</th>\n",
       "      <th>threadName</th>\n",
       "      <th>dataType</th>\n",
       "      <th>success</th>\n",
       "      <th>failureMessage</th>\n",
       "      <th>bytes</th>\n",
       "      <th>sentBytes</th>\n",
       "      <th>grpThreads</th>\n",
       "      <th>allThreads</th>\n",
       "      <th>URL</th>\n",
       "      <th>Latency</th>\n",
       "      <th>IdleTime</th>\n",
       "      <th>Connect</th>\n",
       "    </tr>\n",
       "  </thead>\n",
       "  <tbody>\n",
       "    <tr>\n",
       "      <th>0</th>\n",
       "      <td>1733085750539</td>\n",
       "      <td>734</td>\n",
       "      <td>Añadir Inmueble</td>\n",
       "      <td>200</td>\n",
       "      <td>NaN</td>\n",
       "      <td>Thread Group 1-121</td>\n",
       "      <td>text</td>\n",
       "      <td>True</td>\n",
       "      <td>NaN</td>\n",
       "      <td>695</td>\n",
       "      <td>441</td>\n",
       "      <td>613</td>\n",
       "      <td>613</td>\n",
       "      <td>http://localhost:30200/api/inmuebles/agregar</td>\n",
       "      <td>733</td>\n",
       "      <td>0</td>\n",
       "      <td>0</td>\n",
       "    </tr>\n",
       "    <tr>\n",
       "      <th>1</th>\n",
       "      <td>1733085750604</td>\n",
       "      <td>670</td>\n",
       "      <td>Añadir Inmueble</td>\n",
       "      <td>200</td>\n",
       "      <td>NaN</td>\n",
       "      <td>Thread Group 1-138</td>\n",
       "      <td>text</td>\n",
       "      <td>True</td>\n",
       "      <td>NaN</td>\n",
       "      <td>695</td>\n",
       "      <td>441</td>\n",
       "      <td>613</td>\n",
       "      <td>613</td>\n",
       "      <td>http://localhost:30200/api/inmuebles/agregar</td>\n",
       "      <td>670</td>\n",
       "      <td>0</td>\n",
       "      <td>0</td>\n",
       "    </tr>\n",
       "    <tr>\n",
       "      <th>2</th>\n",
       "      <td>1733085750579</td>\n",
       "      <td>695</td>\n",
       "      <td>Añadir Inmueble</td>\n",
       "      <td>200</td>\n",
       "      <td>NaN</td>\n",
       "      <td>Thread Group 1-142</td>\n",
       "      <td>text</td>\n",
       "      <td>True</td>\n",
       "      <td>NaN</td>\n",
       "      <td>695</td>\n",
       "      <td>441</td>\n",
       "      <td>614</td>\n",
       "      <td>614</td>\n",
       "      <td>http://localhost:30200/api/inmuebles/agregar</td>\n",
       "      <td>695</td>\n",
       "      <td>0</td>\n",
       "      <td>1</td>\n",
       "    </tr>\n",
       "    <tr>\n",
       "      <th>3</th>\n",
       "      <td>1733085750587</td>\n",
       "      <td>688</td>\n",
       "      <td>Añadir Inmueble</td>\n",
       "      <td>200</td>\n",
       "      <td>NaN</td>\n",
       "      <td>Thread Group 1-28</td>\n",
       "      <td>text</td>\n",
       "      <td>True</td>\n",
       "      <td>NaN</td>\n",
       "      <td>695</td>\n",
       "      <td>441</td>\n",
       "      <td>612</td>\n",
       "      <td>612</td>\n",
       "      <td>http://localhost:30200/api/inmuebles/agregar</td>\n",
       "      <td>685</td>\n",
       "      <td>0</td>\n",
       "      <td>0</td>\n",
       "    </tr>\n",
       "    <tr>\n",
       "      <th>4</th>\n",
       "      <td>1733085750576</td>\n",
       "      <td>699</td>\n",
       "      <td>Añadir Inmueble</td>\n",
       "      <td>200</td>\n",
       "      <td>NaN</td>\n",
       "      <td>Thread Group 1-44</td>\n",
       "      <td>text</td>\n",
       "      <td>True</td>\n",
       "      <td>NaN</td>\n",
       "      <td>695</td>\n",
       "      <td>441</td>\n",
       "      <td>611</td>\n",
       "      <td>611</td>\n",
       "      <td>http://localhost:30200/api/inmuebles/agregar</td>\n",
       "      <td>698</td>\n",
       "      <td>0</td>\n",
       "      <td>0</td>\n",
       "    </tr>\n",
       "  </tbody>\n",
       "</table>\n",
       "</div>"
      ],
      "text/plain": [
       "       timeStamp  elapsed            label responseCode responseMessage  \\\n",
       "0  1733085750539      734  Añadir Inmueble          200             NaN   \n",
       "1  1733085750604      670  Añadir Inmueble          200             NaN   \n",
       "2  1733085750579      695  Añadir Inmueble          200             NaN   \n",
       "3  1733085750587      688  Añadir Inmueble          200             NaN   \n",
       "4  1733085750576      699  Añadir Inmueble          200             NaN   \n",
       "\n",
       "           threadName dataType  success  failureMessage  bytes  sentBytes  \\\n",
       "0  Thread Group 1-121     text     True             NaN    695        441   \n",
       "1  Thread Group 1-138     text     True             NaN    695        441   \n",
       "2  Thread Group 1-142     text     True             NaN    695        441   \n",
       "3   Thread Group 1-28     text     True             NaN    695        441   \n",
       "4   Thread Group 1-44     text     True             NaN    695        441   \n",
       "\n",
       "   grpThreads  allThreads                                           URL  \\\n",
       "0         613         613  http://localhost:30200/api/inmuebles/agregar   \n",
       "1         613         613  http://localhost:30200/api/inmuebles/agregar   \n",
       "2         614         614  http://localhost:30200/api/inmuebles/agregar   \n",
       "3         612         612  http://localhost:30200/api/inmuebles/agregar   \n",
       "4         611         611  http://localhost:30200/api/inmuebles/agregar   \n",
       "\n",
       "   Latency  IdleTime  Connect  \n",
       "0      733         0        0  \n",
       "1      670         0        0  \n",
       "2      695         0        1  \n",
       "3      685         0        0  \n",
       "4      698         0        0  "
      ]
     },
     "execution_count": 4,
     "metadata": {},
     "output_type": "execute_result"
    }
   ],
   "source": [
    "import matplotlib.pyplot as plt\n",
    "import seaborn as sns\n",
    "import pandas as pd\n",
    "\n",
    "\n",
    "data = pd.read_csv(\"./v2/Añadir_Inmueble/añadir_inmueble_12000_graph_result.csv\")\n",
    "data.head()"
   ]
  },
  {
   "cell_type": "code",
   "execution_count": 8,
   "metadata": {},
   "outputs": [
    {
     "data": {
      "image/png": "[encoded data removed]",
      "text/plain": [
       "<Figure size 1200x600 with 1 Axes>"
      ]
     },
     "metadata": {},
     "output_type": "display_data"
    }
   ],
   "source": [
    "sns.set(style=\"whitegrid\")\n",
    "\n",
    "plt.figure(figsize=(12, 6))\n",
    "sns.histplot(data['elapsed']/1000, bins=50, kde=True, color='blue', stat=\"density\", alpha=0.6, label=\"Distribución\")\n",
    "\n",
    "plt.title(\"Distribución de Tiempos de Respuesta (elapsed)\", fontsize=16)\n",
    "plt.xlabel(\"Tiempo de Respuesta (s)\", fontsize=12)\n",
    "plt.ylabel(\"Densidad\", fontsize=12)\n",
    "plt.legend()\n",
    "\n",
    "\n",
    "plt.show()\n"
   ]
  },
  {
   "cell_type": "markdown",
   "metadata": {
    "id": "jFop_u_RaqVY"
   },
   "source": [
    "## Versión 3\n",
    "\n",
    "Desplegar con kubernetes 2 replicas"
   ]
  },
  {
   "cell_type": "markdown",
   "metadata": {
    "id": "XQ_Qtdyga1Cn"
   },
   "source": [
    "## Versión 4\n",
    "\n",
    "Desplegar con kubernetes 4 replicas"
   ]
  },
  {
   "cell_type": "markdown",
   "metadata": {
    "id": "bkS3mRFyb6WK"
   },
   "source": [
    "## Versión 5\n",
    "\n",
    "En esta quinta versión del backend, se implementará una arquitectura basada en contenedores utilizando Docker. Se configurarán cuatro contenedores: uno para el backend, que gestionará la lógica de la aplicación y la API; otro para la base de datos, que almacenará los datos de inmuebles y opiniones de los usuarios; uno más para Prometheus, que se encargará del monitoreo del rendimiento del backend; y un último contenedor para Grafana, que se utilizará para la visualización de los datos recopilados por Prometheus. El objetivo es evaluar cómo se comporta el backend al ser desplegado en este entorno de contenedores, garantizando que todos los servicios interactúen de manera eficiente, escalable y con una adecuada visualización de métricas de rendimiento."
   ]
  },
  {
   "cell_type": "markdown",
   "metadata": {
    "id": "v-dLAnSXbGRd"
   },
   "source": [
    "## Versión 6\n",
    "\n",
    "Desplegar con kubernetes 1 replica agregando monitoreo de prometheus y visualización con grafana"
   ]
  },
  {
   "cell_type": "markdown",
   "metadata": {
    "id": "YlzOM_V8bcwv"
   },
   "source": [
    "## Versión 7\n",
    "\n",
    "Desplegar con kubernetes 2 replicas agregando monitoreo de prometheus y visualización con grafana"
   ]
  },
  {
   "cell_type": "markdown",
   "metadata": {
    "id": "ZU5htRjcbzCe"
   },
   "source": [
    "## Versión 8\n",
    "\n",
    "Desplegar con kubernetes 4 replicas agregando monitoreo de prometheus y visualización con grafana"
   ]
  }
 ],
 "metadata": {
  "colab": {
   "provenance": []
  },
  "kernelspec": {
   "display_name": "usr",
   "language": "python",
   "name": "python3"
  },
  "language_info": {
   "codemirror_mode": {
    "name": "ipython",
    "version": 3
   },
   "file_extension": ".py",
   "mimetype": "text/x-python",
   "name": "python",
   "nbconvert_exporter": "python",
   "pygments_lexer": "ipython3",
   "version": "3.10.12"
  }
 },
 "nbformat": 4,
 "nbformat_minor": 0
}
