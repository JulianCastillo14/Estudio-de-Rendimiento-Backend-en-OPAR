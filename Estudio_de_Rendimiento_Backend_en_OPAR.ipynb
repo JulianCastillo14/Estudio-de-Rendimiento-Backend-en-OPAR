{
 "cells": [
  {
   "cell_type": "markdown",
   "metadata": {
    "id": "_LY1YUs0To3P"
   },
   "source": [
    "# Estudio de Rendimiento Backend en OPAR\n",
    "\n",
    "En este estudio de rendimiento, evaluaremos el comportamiento del backend de la aplicación OPAR en dos áreas clave: **inmuebles** y **opiniones**. El apartado de inmuebles se centra en la capacidad del sistema para gestionar y procesar eficientemente las búsquedas, filtros (por precio, barrio, tipo de inmueble) y la carga de información detallada de cada propiedad disponible para alquiler. En cuanto a opiniones, se medirá el rendimiento en la recopilación, almacenamiento y recuperación de calificaciones y comentarios de los usuarios, asegurando que el sistema pueda ofrecer resultados rápidos y precisos al momento de consultar la reputación de un inmueble. El objetivo es garantizar una experiencia de usuario ágil y confiable, con tiempos de respuesta optimizados y una gestión eficiente de los datos en ambas secciones.\n",
    "\n",
    "\n",
    "### Integrantes:\n",
    "- Juan Camilo Lozada Garavito – 2205560\n",
    "- Daniel Camilo Barrera Pérez – 2205562\n",
    "- Jerson Julian Cañon Castillo – 2205633\n",
    "- Santiago González Flores - 2200165"
   ]
  },
  {
   "cell_type": "markdown",
   "metadata": {
    "id": "vcn1Uh7VTziS"
   },
   "source": [
    "## Versión 1\n",
    "En esta primera versión del backend, se implementará una arquitectura basada en contenedores utilizando Docker. Se configurarán dos contenedores: uno para el backend, que gestionará la lógica de la aplicación y la API, y otro para la base de datos, que almacenará los datos de inmuebles y opiniones de los usuarios. El objetivo es evaluar cómo se comporta el backend al ser desplegado en este entorno de contenedores, garantizando que ambos servicios interactúen de manera eficiente y escalable. \n",
    "<div style=\"margin-left: 200px;\">\n",
    "    <img src=\"./Multimedia/V1.jpg\" alt=\"Diagrama versión 1\" width=\"500px\" height=\"220\">\n",
    "</div>\n"
   ]
  },
  {
   "cell_type": "markdown",
   "metadata": {
    "id": "zmFH_H9cahrG"
   },
   "source": [
    "## Versión 2\n",
    "\n",
    "Desplegar con kubernetes 1 replica"
   ]
  },
  {
   "cell_type": "markdown",
   "metadata": {
    "id": "jFop_u_RaqVY"
   },
   "source": [
    "## Versión 3\n",
    "\n",
    "Desplegar con kubernetes 2 replicas"
   ]
  },
  {
   "cell_type": "markdown",
   "metadata": {
    "id": "XQ_Qtdyga1Cn"
   },
   "source": [
    "## Versión 4\n",
    "\n",
    "Desplegar con kubernetes 4 replicas"
   ]
  },
  {
   "cell_type": "markdown",
   "metadata": {
    "id": "bkS3mRFyb6WK"
   },
   "source": [
    "## Versión 5\n",
    "\n",
    "En esta quinta versión del backend, se implementará una arquitectura basada en contenedores utilizando Docker. Se configurarán cuatro contenedores: uno para el backend, que gestionará la lógica de la aplicación y la API; otro para la base de datos, que almacenará los datos de inmuebles y opiniones de los usuarios; uno más para Prometheus, que se encargará del monitoreo del rendimiento del backend; y un último contenedor para Grafana, que se utilizará para la visualización de los datos recopilados por Prometheus. El objetivo es evaluar cómo se comporta el backend al ser desplegado en este entorno de contenedores, garantizando que todos los servicios interactúen de manera eficiente, escalable y con una adecuada visualización de métricas de rendimiento."
   ]
  },
  {
   "cell_type": "markdown",
   "metadata": {
    "id": "v-dLAnSXbGRd"
   },
   "source": [
    "## Versión 6\n",
    "\n",
    "Desplegar con kubernetes 1 replica agregando monitoreo de prometheus y visualización con grafana"
   ]
  },
  {
   "cell_type": "markdown",
   "metadata": {
    "id": "YlzOM_V8bcwv"
   },
   "source": [
    "## Versión 7\n",
    "\n",
    "Desplegar con kubernetes 2 replicas agregando monitoreo de prometheus y visualización con grafana"
   ]
  },
  {
   "cell_type": "markdown",
   "metadata": {
    "id": "ZU5htRjcbzCe"
   },
   "source": [
    "## Versión 8\n",
    "\n",
    "Desplegar con kubernetes 4 replicas agregando monitoreo de prometheus y visualización con grafana"
   ]
  }
 ],
 "metadata": {
  "colab": {
   "provenance": []
  },
  "kernelspec": {
   "display_name": "Python 3",
   "name": "python3"
  },
  "language_info": {
   "name": "python"
  }
 },
 "nbformat": 4,
 "nbformat_minor": 0
}
