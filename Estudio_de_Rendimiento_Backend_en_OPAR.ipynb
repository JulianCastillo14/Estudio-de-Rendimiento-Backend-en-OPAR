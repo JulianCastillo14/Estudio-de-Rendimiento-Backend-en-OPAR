{
  "nbformat": 4,
  "nbformat_minor": 0,
  "metadata": {
    "colab": {
      "provenance": []
    },
    "kernelspec": {
      "name": "python3",
      "display_name": "Python 3"
    },
    "language_info": {
      "name": "python"
    }
  },
  "cells": [
    {
      "cell_type": "markdown",
      "source": [
        "# Estudio de Rendimiento Backend en OPAR"
      ],
      "metadata": {
        "id": "_LY1YUs0To3P"
      }
    },
    {
      "cell_type": "markdown",
      "source": [
        "## Versión 1\n",
        "\n",
        "Desplegar con docker"
      ],
      "metadata": {
        "id": "vcn1Uh7VTziS"
      }
    },
    {
      "cell_type": "markdown",
      "source": [
        "## Versión 2\n",
        "\n",
        "Desplegar con kubernetes 1 replica"
      ],
      "metadata": {
        "id": "zmFH_H9cahrG"
      }
    },
    {
      "cell_type": "markdown",
      "source": [
        "## Versión 3\n",
        "\n",
        "Desplegar con kubernetes 2 replicas"
      ],
      "metadata": {
        "id": "jFop_u_RaqVY"
      }
    },
    {
      "cell_type": "markdown",
      "source": [
        "## Versión 4\n",
        "\n",
        "Desplegar con kubernetes 4 replicas"
      ],
      "metadata": {
        "id": "XQ_Qtdyga1Cn"
      }
    },
    {
      "cell_type": "markdown",
      "source": [
        "## Versión 5\n",
        "\n",
        "Desplegar con docker agregando monitoreo de prometheus y visualización con grafana"
      ],
      "metadata": {
        "id": "bkS3mRFyb6WK"
      }
    },
    {
      "cell_type": "markdown",
      "source": [
        "## Versión 6\n",
        "\n",
        "Desplegar con kubernetes 1 replica agregando monitoreo de prometheus y visualización con grafana"
      ],
      "metadata": {
        "id": "v-dLAnSXbGRd"
      }
    },
    {
      "cell_type": "markdown",
      "source": [
        "## Versión 7\n",
        "\n",
        "Desplegar con kubernetes 2 replicas agregando monitoreo de prometheus y visualización con grafana"
      ],
      "metadata": {
        "id": "YlzOM_V8bcwv"
      }
    },
    {
      "cell_type": "markdown",
      "source": [
        "## Versión 8\n",
        "\n",
        "Desplegar con kubernetes 4 replicas agregando monitoreo de prometheus y visualización con grafana"
      ],
      "metadata": {
        "id": "ZU5htRjcbzCe"
      }
    }
  ]
}